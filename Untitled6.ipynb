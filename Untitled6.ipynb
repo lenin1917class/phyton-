{
  "nbformat": 4,
  "nbformat_minor": 0,
  "metadata": {
    "colab": {
      "provenance": [],
      "authorship_tag": "ABX9TyPGZNket1TTgUd74+IEStLZ",
      "include_colab_link": true
    },
    "kernelspec": {
      "name": "python3",
      "display_name": "Python 3"
    },
    "language_info": {
      "name": "python"
    }
  },
  "cells": [
    {
      "cell_type": "markdown",
      "metadata": {
        "id": "view-in-github",
        "colab_type": "text"
      },
      "source": [
        "<a href=\"https://colab.research.google.com/github/lenin1917class/phyton-/blob/main/Untitled6.ipynb\" target=\"_parent\"><img src=\"https://colab.research.google.com/assets/colab-badge.svg\" alt=\"Open In Colab\"/></a>"
      ]
    },
    {
      "cell_type": "code",
      "execution_count": null,
      "metadata": {
        "colab": {
          "base_uri": "https://localhost:8080/"
        },
        "id": "7uFGupLl2-J5",
        "outputId": "3d0b49e8-525c-479b-adad-179642de6dd8"
      },
      "outputs": [
        {
          "name": "stdout",
          "output_type": "stream",
          "text": [
            "Введите имя: дима корогодин\n",
            "Сколько товаров вы желаете приобрести? 1\n",
            "Какова цена за единицу товара? 1\n"
          ]
        }
      ],
      "source": [
        "\n",
        "name = input(\"Введите имя: \")\n",
        "quantity = int(input(\"Сколько товаров вы желаете приобрести? \"))\n",
        "price = float(input(\"Какова цена за единицу товара? \"))"
      ]
    },
    {
      "cell_type": "code",
      "source": [
        "print(1)\n",
        "print(\"Hello\")"
      ],
      "metadata": {
        "colab": {
          "base_uri": "https://localhost:8080/"
        },
        "id": "Ky3xcHPt9MUn",
        "outputId": "fd91c165-9232-410e-ee18-3dec8cd5ca11"
      },
      "execution_count": null,
      "outputs": [
        {
          "output_type": "stream",
          "name": "stdout",
          "text": [
            "1\n",
            "Hello\n"
          ]
        }
      ]
    },
    {
      "cell_type": "code",
      "source": [
        "\n",
        "# Запрашиваем у пользователя имя и фамилию\n",
        "first = input(\"Введите имя : \")\n",
        "last = input(\"Введите фамилию: \")\n",
        "# Конкатенируем строки\n",
        "both = last + \", \" + first\n",
        "# Отображаем результат\n",
        "print(both)"
      ],
      "metadata": {
        "colab": {
          "base_uri": "https://localhost:8080/"
        },
        "id": "1hljMQMg_reP",
        "outputId": "9d746c2e-6e8d-420f-d661-d7b2d4f0e96b"
      },
      "execution_count": null,
      "outputs": [
        {
          "output_type": "stream",
          "name": "stdout",
          "text": [
            "Введите имя : ахмет\n",
            "Введите фамилию: такси\n",
            "такси, ахмет\n"
          ]
        }
      ]
    },
    {
      "cell_type": "code",
      "source": [
        "# Спрашиваем имя пользователя\n",
        "first = input(\"Введите имя: \")\n",
        "# Вычисляем длину строки\n",
        "num_chars = len(first)\n",
        "# Отображаем результат\n",
        "print(\"В вашем имени\", num_chars, \"символов\")"
      ],
      "metadata": {
        "colab": {
          "base_uri": "https://localhost:8080/"
        },
        "id": "t5pKZRDrEsfW",
        "outputId": "a37c6c01-90ac-418d-949b-17426a7b6b78"
      },
      "execution_count": null,
      "outputs": [
        {
          "output_type": "stream",
          "name": "stdout",
          "text": [
            "Введите имя: юрий\n",
            "В вашем имени 4 символов\n"
          ]
        }
      ]
    },
    {
      "cell_type": "code",
      "source": [
        "# Запрашиваем имя пользователя\n",
        "first = input(\"Введите имя: \")\n",
        "middle = input(\"Введите отчество: \")\n",
        "last = input(\"Введите фамилию: \")\n",
        "# Извлекаем первый символ из всех трех переменных и собираем их вместе\n",
        "initials = first[0] + middle[0] + last[0]\n",
        "# Выводим инициалы\n",
        "print(\"Ваши инициалы:\", initials)"
      ],
      "metadata": {
        "colab": {
          "base_uri": "https://localhost:8080/"
        },
        "id": "iU-NfrD0FfcV",
        "outputId": "1a24e04f-c0cf-41cb-e064-862dc09b1a4f"
      },
      "execution_count": null,
      "outputs": [
        {
          "output_type": "stream",
          "name": "stdout",
          "text": [
            "Введите имя: адольф\n",
            "Введите отчество: иосиф\n",
            "Введите фамилию: долгорйкий\n",
            "Ваши инициалы: аид\n"
          ]
        }
      ]
    },
    {
      "cell_type": "code",
      "source": [
        "name = input(\"Введите имя: \")\n",
        "print = input(\"Почтовый адрес\")\n"
      ],
      "metadata": {
        "colab": {
          "base_uri": "https://localhost:8080/"
        },
        "id": "LqU686VWIRlN",
        "outputId": "0aff7f14-18a1-42fe-8678-44d7f211a41b"
      },
      "execution_count": null,
      "outputs": [
        {
          "name": "stdout",
          "output_type": "stream",
          "text": [
            "Введите имя: га\n",
            "Почтовый адресул. Пушкина  д. Калотушкина \n"
          ]
        }
      ]
    },
    {
      "cell_type": "code",
      "source": [],
      "metadata": {
        "id": "WYkZwMcvKWHl"
      },
      "execution_count": null,
      "outputs": []
    }
  ]
}